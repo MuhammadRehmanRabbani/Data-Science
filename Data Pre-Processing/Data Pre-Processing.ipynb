{
 "cells": [
  {
   "cell_type": "code",
   "execution_count": 1,
   "metadata": {},
   "outputs": [],
   "source": [
    "import os\n",
    "os.getcwd()\n",
    "os.chdir('D:\\\\Data Science\\\\Data Pre-Processing')"
   ]
  },
  {
   "cell_type": "code",
   "execution_count": 2,
   "metadata": {},
   "outputs": [],
   "source": [
    "import pandas as pd\n",
    "import numpy as np"
   ]
  },
  {
   "cell_type": "code",
   "execution_count": 3,
   "metadata": {},
   "outputs": [],
   "source": [
    "data = pd.read_excel('Employee_Data.xls')"
   ]
  },
  {
   "cell_type": "code",
   "execution_count": 4,
   "metadata": {},
   "outputs": [
    {
     "data": {
      "text/plain": [
       "Employee Id     0\n",
       "First Name      0\n",
       "Last Name       0\n",
       "Department      9\n",
       "Age             6\n",
       "Experience     13\n",
       "Salary          0\n",
       "dtype: int64"
      ]
     },
     "execution_count": 4,
     "metadata": {},
     "output_type": "execute_result"
    }
   ],
   "source": [
    "data.isnull().sum()"
   ]
  },
  {
   "cell_type": "code",
   "execution_count": 8,
   "metadata": {},
   "outputs": [
    {
     "data": {
      "text/plain": [
       "<matplotlib.axes._subplots.AxesSubplot at 0x2206e092518>"
      ]
     },
     "execution_count": 8,
     "metadata": {},
     "output_type": "execute_result"
    },
    {
     "data": {
      "image/png": "[encoded data removed]",
      "text/plain": [
       "<Figure size 432x288 with 1 Axes>"
      ]
     },
     "metadata": {
      "needs_background": "light"
     },
     "output_type": "display_data"
    }
   ],
   "source": [
    "import seaborn as sns\n",
    "sns.boxplot(y='Age', data=data)"
   ]
  },
  {
   "cell_type": "code",
   "execution_count": 7,
   "metadata": {},
   "outputs": [
    {
     "data": {
      "text/plain": [
       "<matplotlib.axes._subplots.AxesSubplot at 0x2206df5d9b0>"
      ]
     },
     "execution_count": 7,
     "metadata": {},
     "output_type": "execute_result"
    },
    {
     "data": {
      "image/png": "[encoded data removed]",
      "text/plain": [
       "<Figure size 432x288 with 1 Axes>"
      ]
     },
     "metadata": {
      "needs_background": "light"
     },
     "output_type": "display_data"
    }
   ],
   "source": [
    "sns.boxplot(y='Experience', data=data)"
   ]
  },
  {
   "cell_type": "code",
   "execution_count": 10,
   "metadata": {},
   "outputs": [],
   "source": [
    "x=data.iloc[:,3:6].values"
   ]
  },
  {
   "cell_type": "code",
   "execution_count": 11,
   "metadata": {},
   "outputs": [
    {
     "data": {
      "text/plain": [
       "array([['Asset Management', 38.0, 23.0],\n",
       "       ['Customer Service', 26.0, 10.0],\n",
       "       ['Human Resources', nan, 14.0],\n",
       "       ['Public Relations', nan, 12.0],\n",
       "       ['Customer Service', nan, 13.0],\n",
       "       ['Advertising', nan, 9.0],\n",
       "       ['Research and Development', nan, 24.0],\n",
       "       ['Asset Management', nan, 2.0],\n",
       "       ['Legal Department', 40.0, 30.0],\n",
       "       ['Advertising', 24.0, 23.0],\n",
       "       ['Legal Department', 35.0, 3.0],\n",
       "       [nan, 31.0, nan],\n",
       "       [nan, 58.0, nan],\n",
       "       [nan, 51.0, nan],\n",
       "       [nan, 27.0, nan],\n",
       "       [nan, 54.0, nan],\n",
       "       [nan, 55.0, nan],\n",
       "       ['Media Relations', 58.0, nan],\n",
       "       ['Research and Development', 59.0, nan],\n",
       "       ['Media Relations', 45.0, 4.0],\n",
       "       ['Sales and Marketing', 50.0, 2.0],\n",
       "       ['Advertising', 55.0, 19.0],\n",
       "       ['Tech Support', 40.0, 20.0],\n",
       "       ['Advertising', 51.0, 21.0],\n",
       "       ['Media Relations', 24.0, 12.0],\n",
       "       ['Asset Management', 57.0, 25.0],\n",
       "       ['Legal Department', 24.0, 9.0],\n",
       "       ['Public Relations', 46.0, 6.0],\n",
       "       ['Asset Management', 29.0, 26.0],\n",
       "       ['Customer Relations', 46.0, 13.0],\n",
       "       ['Quality Assurance', 30.0, 29.0],\n",
       "       ['Accounting', 57.0, nan],\n",
       "       [nan, 47.0, nan],\n",
       "       [nan, 41.0, nan],\n",
       "       [nan, 50.0, nan],\n",
       "       ['Public Relations', 49.0, nan],\n",
       "       ['Customer Relations', 28.0, 6.0],\n",
       "       ['Public Relations', 44.0, 29.0],\n",
       "       ['Finances', 40.0, 19.0],\n",
       "       ['Advertising', 30.0, 25.0],\n",
       "       ['Finances', 56.0, 21.0],\n",
       "       ['Accounting', 26.0, 24.0],\n",
       "       ['Finances', 44.0, 16.0],\n",
       "       ['Payroll', 36.0, 28.0],\n",
       "       ['Tech Support', 43.0, 24.0],\n",
       "       ['Finances', 47.0, 15.0],\n",
       "       ['Finances', 29.0, 11.0],\n",
       "       ['Customer Service', 52.0, 7.0],\n",
       "       ['Customer Relations', 42.0, 23.0],\n",
       "       ['Tech Support', 44.0, 5.0],\n",
       "       ['Finances', 23.0, 8.0],\n",
       "       ['Payroll', 57.0, 16.0],\n",
       "       ['Asset Management', 40.0, 9.0],\n",
       "       ['Media Relations', 28.0, 24.0],\n",
       "       ['Advertising', 53.0, 7.0],\n",
       "       ['Accounting', 56.0, 3.0],\n",
       "       ['Customer Relations', 48.0, 20.0],\n",
       "       ['Customer Service', 54.0, 7.0],\n",
       "       ['Media Relations', 37.0, 2.0],\n",
       "       ['Advertising', 57.0, 8.0],\n",
       "       ['Human Resources', 50.0, 17.0],\n",
       "       ['Legal Department', 46.0, 9.0],\n",
       "       ['Media Relations', 28.0, 3.0],\n",
       "       ['Legal Department', 26.0, 14.0],\n",
       "       ['Payroll', 54.0, 11.0],\n",
       "       ['Public Relations', 31.0, 18.0],\n",
       "       ['Legal Department', 33.0, 2.0],\n",
       "       ['Media Relations', 48.0, 27.0],\n",
       "       ['Quality Assurance', 41.0, 20.0],\n",
       "       ['Human Resources', 44.0, 1.0],\n",
       "       ['Tech Support', 38.0, 28.0],\n",
       "       ['Accounting', 34.0, 11.0],\n",
       "       ['Quality Assurance', 28.0, 27.0],\n",
       "       ['Advertising', 23.0, 23.0],\n",
       "       ['Customer Relations', 52.0, 12.0],\n",
       "       ['Finances', 33.0, 22.0],\n",
       "       ['Human Resources', 45.0, 28.0],\n",
       "       ['Legal Department', 37.0, 30.0],\n",
       "       ['Research and Development', 26.0, 27.0],\n",
       "       ['Asset Management', 54.0, 19.0],\n",
       "       ['Tech Support', 51.0, 29.0],\n",
       "       ['Quality Assurance', 26.0, 20.0],\n",
       "       ['Accounting', 26.0, 10.0],\n",
       "       ['Customer Service', 35.0, 4.0],\n",
       "       ['Sales and Marketing', 38.0, 23.0],\n",
       "       ['Tech Support', 33.0, 14.0],\n",
       "       ['Advertising', 38.0, 17.0],\n",
       "       ['Accounting', 43.0, 21.0],\n",
       "       ['Accounting', 32.0, 7.0],\n",
       "       ['Media Relations', 32.0, 15.0],\n",
       "       ['Human Resources', 51.0, 7.0],\n",
       "       ['Public Relations', 25.0, 4.0],\n",
       "       ['Asset Management', 58.0, 23.0],\n",
       "       ['Accounting', 41.0, 25.0],\n",
       "       ['Finances', 25.0, 24.0],\n",
       "       ['Tech Support', 52.0, 16.0],\n",
       "       ['Customer Relations', 52.0, 3.0],\n",
       "       ['Quality Assurance', 30.0, 5.0],\n",
       "       ['Research and Development', 32.0, 27.0],\n",
       "       ['Quality Assurance', 46.0, 24.0]], dtype=object)"
      ]
     },
     "execution_count": 11,
     "metadata": {},
     "output_type": "execute_result"
    }
   ],
   "source": [
    "x"
   ]
  },
  {
   "cell_type": "code",
   "execution_count": 12,
   "metadata": {},
   "outputs": [],
   "source": [
    "from sklearn.impute import SimpleImputer\n",
    "imp = SimpleImputer(strategy='most_frequent')"
   ]
  },
  {
   "cell_type": "code",
   "execution_count": 18,
   "metadata": {},
   "outputs": [],
   "source": [
    "x[:,0:1] = imp.fit_transform(x[:,0:1])"
   ]
  },
  {
   "cell_type": "code",
   "execution_count": 23,
   "metadata": {},
   "outputs": [
    {
     "data": {
      "text/plain": [
       "Department\n",
       "Accounting                  8\n",
       "Advertising                 9\n",
       "Asset Management            7\n",
       "Customer Relations          6\n",
       "Customer Service            5\n",
       "Finances                    8\n",
       "Human Resources             5\n",
       "Legal Department            7\n",
       "Media Relations             8\n",
       "Payroll                     3\n",
       "Public Relations            6\n",
       "Quality Assurance           6\n",
       "Research and Development    4\n",
       "Sales and Marketing         2\n",
       "Tech Support                7\n",
       "dtype: int64"
      ]
     },
     "execution_count": 23,
     "metadata": {},
     "output_type": "execute_result"
    }
   ],
   "source": [
    "data.groupby('Department').size()"
   ]
  },
  {
   "cell_type": "code",
   "execution_count": 24,
   "metadata": {},
   "outputs": [
    {
     "data": {
      "text/html": [
       "<div>\n",
       "<style scoped>\n",
       "    .dataframe tbody tr th:only-of-type {\n",
       "        vertical-align: middle;\n",
       "    }\n",
       "\n",
       "    .dataframe tbody tr th {\n",
       "        vertical-align: top;\n",
       "    }\n",
       "\n",
       "    .dataframe thead th {\n",
       "        text-align: right;\n",
       "    }\n",
       "</style>\n",
       "<table border=\"1\" class=\"dataframe\">\n",
       "  <thead>\n",
       "    <tr style=\"text-align: right;\">\n",
       "      <th></th>\n",
       "      <th>Experience</th>\n",
       "    </tr>\n",
       "  </thead>\n",
       "  <tbody>\n",
       "    <tr>\n",
       "      <td>0</td>\n",
       "      <td>23.0</td>\n",
       "    </tr>\n",
       "    <tr>\n",
       "      <td>1</td>\n",
       "      <td>10.0</td>\n",
       "    </tr>\n",
       "    <tr>\n",
       "      <td>2</td>\n",
       "      <td>14.0</td>\n",
       "    </tr>\n",
       "    <tr>\n",
       "      <td>3</td>\n",
       "      <td>12.0</td>\n",
       "    </tr>\n",
       "    <tr>\n",
       "      <td>4</td>\n",
       "      <td>13.0</td>\n",
       "    </tr>\n",
       "    <tr>\n",
       "      <td>...</td>\n",
       "      <td>...</td>\n",
       "    </tr>\n",
       "    <tr>\n",
       "      <td>95</td>\n",
       "      <td>16.0</td>\n",
       "    </tr>\n",
       "    <tr>\n",
       "      <td>96</td>\n",
       "      <td>3.0</td>\n",
       "    </tr>\n",
       "    <tr>\n",
       "      <td>97</td>\n",
       "      <td>5.0</td>\n",
       "    </tr>\n",
       "    <tr>\n",
       "      <td>98</td>\n",
       "      <td>27.0</td>\n",
       "    </tr>\n",
       "    <tr>\n",
       "      <td>99</td>\n",
       "      <td>24.0</td>\n",
       "    </tr>\n",
       "  </tbody>\n",
       "</table>\n",
       "<p>100 rows × 1 columns</p>\n",
       "</div>"
      ],
      "text/plain": [
       "    Experience\n",
       "0         23.0\n",
       "1         10.0\n",
       "2         14.0\n",
       "3         12.0\n",
       "4         13.0\n",
       "..         ...\n",
       "95        16.0\n",
       "96         3.0\n",
       "97         5.0\n",
       "98        27.0\n",
       "99        24.0\n",
       "\n",
       "[100 rows x 1 columns]"
      ]
     },
     "execution_count": 24,
     "metadata": {},
     "output_type": "execute_result"
    }
   ],
   "source": [
    "data_2 = data\n",
    "round(data_2.iloc[:,5:6],3)"
   ]
  },
  {
   "cell_type": "code",
   "execution_count": 26,
   "metadata": {},
   "outputs": [
    {
     "data": {
      "text/plain": [
       "pandas.core.frame.DataFrame"
      ]
     },
     "execution_count": 26,
     "metadata": {},
     "output_type": "execute_result"
    }
   ],
   "source": [
    "type(data_2)"
   ]
  },
  {
   "cell_type": "code",
   "execution_count": 27,
   "metadata": {},
   "outputs": [],
   "source": [
    "data_2['Department'] = data_2['Department'].fillna('Sales and Marketing')"
   ]
  },
  {
   "cell_type": "code",
   "execution_count": 28,
   "metadata": {},
   "outputs": [],
   "source": [
    "data_2['Age'] = data_2['Age'].fillna(data_2['Age'].mean())"
   ]
  },
  {
   "cell_type": "code",
   "execution_count": 29,
   "metadata": {},
   "outputs": [],
   "source": [
    "data_2['Experience'] = data_2['Experience'].fillna(data_2['Experience'].mean())"
   ]
  },
  {
   "cell_type": "code",
   "execution_count": 30,
   "metadata": {},
   "outputs": [
    {
     "data": {
      "text/html": [
       "<div>\n",
       "<style scoped>\n",
       "    .dataframe tbody tr th:only-of-type {\n",
       "        vertical-align: middle;\n",
       "    }\n",
       "\n",
       "    .dataframe tbody tr th {\n",
       "        vertical-align: top;\n",
       "    }\n",
       "\n",
       "    .dataframe thead th {\n",
       "        text-align: right;\n",
       "    }\n",
       "</style>\n",
       "<table border=\"1\" class=\"dataframe\">\n",
       "  <thead>\n",
       "    <tr style=\"text-align: right;\">\n",
       "      <th></th>\n",
       "      <th>Employee Id</th>\n",
       "      <th>First Name</th>\n",
       "      <th>Last Name</th>\n",
       "      <th>Department</th>\n",
       "      <th>Age</th>\n",
       "      <th>Experience</th>\n",
       "      <th>Salary</th>\n",
       "    </tr>\n",
       "  </thead>\n",
       "  <tbody>\n",
       "    <tr>\n",
       "      <td>0</td>\n",
       "      <td>1</td>\n",
       "      <td>Camden</td>\n",
       "      <td>Savage</td>\n",
       "      <td>Asset Management</td>\n",
       "      <td>38.00000</td>\n",
       "      <td>23.0</td>\n",
       "      <td>46975</td>\n",
       "    </tr>\n",
       "    <tr>\n",
       "      <td>1</td>\n",
       "      <td>2</td>\n",
       "      <td>Justina</td>\n",
       "      <td>Mcconnell</td>\n",
       "      <td>Customer Service</td>\n",
       "      <td>26.00000</td>\n",
       "      <td>10.0</td>\n",
       "      <td>30711</td>\n",
       "    </tr>\n",
       "    <tr>\n",
       "      <td>2</td>\n",
       "      <td>3</td>\n",
       "      <td>Stewart</td>\n",
       "      <td>Moon</td>\n",
       "      <td>Human Resources</td>\n",
       "      <td>40.93617</td>\n",
       "      <td>14.0</td>\n",
       "      <td>25049</td>\n",
       "    </tr>\n",
       "    <tr>\n",
       "      <td>3</td>\n",
       "      <td>4</td>\n",
       "      <td>Tobias</td>\n",
       "      <td>Fletcher</td>\n",
       "      <td>Public Relations</td>\n",
       "      <td>40.93617</td>\n",
       "      <td>12.0</td>\n",
       "      <td>33309</td>\n",
       "    </tr>\n",
       "    <tr>\n",
       "      <td>4</td>\n",
       "      <td>5</td>\n",
       "      <td>Raja</td>\n",
       "      <td>Sims</td>\n",
       "      <td>Customer Service</td>\n",
       "      <td>40.93617</td>\n",
       "      <td>13.0</td>\n",
       "      <td>25274</td>\n",
       "    </tr>\n",
       "    <tr>\n",
       "      <td>...</td>\n",
       "      <td>...</td>\n",
       "      <td>...</td>\n",
       "      <td>...</td>\n",
       "      <td>...</td>\n",
       "      <td>...</td>\n",
       "      <td>...</td>\n",
       "      <td>...</td>\n",
       "    </tr>\n",
       "    <tr>\n",
       "      <td>95</td>\n",
       "      <td>96</td>\n",
       "      <td>Nerea</td>\n",
       "      <td>Haney</td>\n",
       "      <td>Tech Support</td>\n",
       "      <td>52.00000</td>\n",
       "      <td>16.0</td>\n",
       "      <td>17756</td>\n",
       "    </tr>\n",
       "    <tr>\n",
       "      <td>96</td>\n",
       "      <td>97</td>\n",
       "      <td>Nadine</td>\n",
       "      <td>Franks</td>\n",
       "      <td>Customer Relations</td>\n",
       "      <td>52.00000</td>\n",
       "      <td>3.0</td>\n",
       "      <td>31886</td>\n",
       "    </tr>\n",
       "    <tr>\n",
       "      <td>97</td>\n",
       "      <td>98</td>\n",
       "      <td>Aquila</td>\n",
       "      <td>Jacobson</td>\n",
       "      <td>Quality Assurance</td>\n",
       "      <td>30.00000</td>\n",
       "      <td>5.0</td>\n",
       "      <td>39812</td>\n",
       "    </tr>\n",
       "    <tr>\n",
       "      <td>98</td>\n",
       "      <td>99</td>\n",
       "      <td>Wang</td>\n",
       "      <td>Doyle</td>\n",
       "      <td>Research and Development</td>\n",
       "      <td>32.00000</td>\n",
       "      <td>27.0</td>\n",
       "      <td>30742</td>\n",
       "    </tr>\n",
       "    <tr>\n",
       "      <td>99</td>\n",
       "      <td>100</td>\n",
       "      <td>Beau</td>\n",
       "      <td>Richardson</td>\n",
       "      <td>Quality Assurance</td>\n",
       "      <td>46.00000</td>\n",
       "      <td>24.0</td>\n",
       "      <td>30128</td>\n",
       "    </tr>\n",
       "  </tbody>\n",
       "</table>\n",
       "<p>100 rows × 7 columns</p>\n",
       "</div>"
      ],
      "text/plain": [
       "    Employee Id First Name   Last Name                Department       Age  \\\n",
       "0             1     Camden      Savage          Asset Management  38.00000   \n",
       "1             2    Justina   Mcconnell          Customer Service  26.00000   \n",
       "2             3    Stewart        Moon           Human Resources  40.93617   \n",
       "3             4     Tobias    Fletcher          Public Relations  40.93617   \n",
       "4             5       Raja        Sims          Customer Service  40.93617   \n",
       "..          ...        ...         ...                       ...       ...   \n",
       "95           96      Nerea       Haney              Tech Support  52.00000   \n",
       "96           97     Nadine      Franks        Customer Relations  52.00000   \n",
       "97           98     Aquila    Jacobson         Quality Assurance  30.00000   \n",
       "98           99       Wang       Doyle  Research and Development  32.00000   \n",
       "99          100       Beau  Richardson         Quality Assurance  46.00000   \n",
       "\n",
       "    Experience  Salary  \n",
       "0         23.0   46975  \n",
       "1         10.0   30711  \n",
       "2         14.0   25049  \n",
       "3         12.0   33309  \n",
       "4         13.0   25274  \n",
       "..         ...     ...  \n",
       "95        16.0   17756  \n",
       "96         3.0   31886  \n",
       "97         5.0   39812  \n",
       "98        27.0   30742  \n",
       "99        24.0   30128  \n",
       "\n",
       "[100 rows x 7 columns]"
      ]
     },
     "execution_count": 30,
     "metadata": {},
     "output_type": "execute_result"
    }
   ],
   "source": [
    "data_2"
   ]
  },
  {
   "cell_type": "code",
   "execution_count": 31,
   "metadata": {},
   "outputs": [],
   "source": [
    "#Outlier Treatment"
   ]
  },
  {
   "cell_type": "code",
   "execution_count": 32,
   "metadata": {},
   "outputs": [],
   "source": [
    "data_3 = pd.read_excel('OutlierData.xlsx')"
   ]
  },
  {
   "cell_type": "code",
   "execution_count": 33,
   "metadata": {},
   "outputs": [
    {
     "data": {
      "text/html": [
       "<div>\n",
       "<style scoped>\n",
       "    .dataframe tbody tr th:only-of-type {\n",
       "        vertical-align: middle;\n",
       "    }\n",
       "\n",
       "    .dataframe tbody tr th {\n",
       "        vertical-align: top;\n",
       "    }\n",
       "\n",
       "    .dataframe thead th {\n",
       "        text-align: right;\n",
       "    }\n",
       "</style>\n",
       "<table border=\"1\" class=\"dataframe\">\n",
       "  <thead>\n",
       "    <tr style=\"text-align: right;\">\n",
       "      <th></th>\n",
       "      <th>Department</th>\n",
       "      <th>Age</th>\n",
       "      <th>Experience</th>\n",
       "    </tr>\n",
       "  </thead>\n",
       "  <tbody>\n",
       "    <tr>\n",
       "      <td>0</td>\n",
       "      <td>HR</td>\n",
       "      <td>21</td>\n",
       "      <td>1</td>\n",
       "    </tr>\n",
       "    <tr>\n",
       "      <td>1</td>\n",
       "      <td>HR</td>\n",
       "      <td>33</td>\n",
       "      <td>12</td>\n",
       "    </tr>\n",
       "    <tr>\n",
       "      <td>2</td>\n",
       "      <td>IT</td>\n",
       "      <td>35</td>\n",
       "      <td>12</td>\n",
       "    </tr>\n",
       "    <tr>\n",
       "      <td>3</td>\n",
       "      <td>IT</td>\n",
       "      <td>36</td>\n",
       "      <td>12</td>\n",
       "    </tr>\n",
       "    <tr>\n",
       "      <td>4</td>\n",
       "      <td>HR</td>\n",
       "      <td>34</td>\n",
       "      <td>11</td>\n",
       "    </tr>\n",
       "    <tr>\n",
       "      <td>5</td>\n",
       "      <td>IT</td>\n",
       "      <td>33</td>\n",
       "      <td>13</td>\n",
       "    </tr>\n",
       "    <tr>\n",
       "      <td>6</td>\n",
       "      <td>Marketing</td>\n",
       "      <td>34</td>\n",
       "      <td>12</td>\n",
       "    </tr>\n",
       "    <tr>\n",
       "      <td>7</td>\n",
       "      <td>HR</td>\n",
       "      <td>32</td>\n",
       "      <td>10</td>\n",
       "    </tr>\n",
       "    <tr>\n",
       "      <td>8</td>\n",
       "      <td>Marketing</td>\n",
       "      <td>31</td>\n",
       "      <td>2</td>\n",
       "    </tr>\n",
       "    <tr>\n",
       "      <td>9</td>\n",
       "      <td>IT</td>\n",
       "      <td>55</td>\n",
       "      <td>35</td>\n",
       "    </tr>\n",
       "  </tbody>\n",
       "</table>\n",
       "</div>"
      ],
      "text/plain": [
       "  Department  Age  Experience\n",
       "0         HR   21           1\n",
       "1         HR   33          12\n",
       "2         IT   35          12\n",
       "3         IT   36          12\n",
       "4         HR   34          11\n",
       "5         IT   33          13\n",
       "6  Marketing   34          12\n",
       "7         HR   32          10\n",
       "8  Marketing   31           2\n",
       "9         IT   55          35"
      ]
     },
     "execution_count": 33,
     "metadata": {},
     "output_type": "execute_result"
    }
   ],
   "source": [
    "data_3"
   ]
  },
  {
   "cell_type": "code",
   "execution_count": 34,
   "metadata": {},
   "outputs": [],
   "source": [
    "Q1 = data_3.quantile(0.25)\n",
    "Q3 = data_3.quantile(0.75)"
   ]
  },
  {
   "cell_type": "code",
   "execution_count": 35,
   "metadata": {},
   "outputs": [
    {
     "data": {
      "text/plain": [
       "Age           32.25\n",
       "Experience    10.25\n",
       "Name: 0.25, dtype: float64"
      ]
     },
     "execution_count": 35,
     "metadata": {},
     "output_type": "execute_result"
    }
   ],
   "source": [
    "Q1"
   ]
  },
  {
   "cell_type": "code",
   "execution_count": 36,
   "metadata": {},
   "outputs": [
    {
     "data": {
      "text/plain": [
       "Age           34.75\n",
       "Experience    12.00\n",
       "Name: 0.75, dtype: float64"
      ]
     },
     "execution_count": 36,
     "metadata": {},
     "output_type": "execute_result"
    }
   ],
   "source": [
    "Q3"
   ]
  },
  {
   "cell_type": "code",
   "execution_count": 37,
   "metadata": {},
   "outputs": [],
   "source": [
    "IQR = Q3-Q1"
   ]
  },
  {
   "cell_type": "code",
   "execution_count": 38,
   "metadata": {},
   "outputs": [
    {
     "data": {
      "text/plain": [
       "Age           2.50\n",
       "Experience    1.75\n",
       "dtype: float64"
      ]
     },
     "execution_count": 38,
     "metadata": {},
     "output_type": "execute_result"
    }
   ],
   "source": [
    "IQR"
   ]
  },
  {
   "cell_type": "code",
   "execution_count": 40,
   "metadata": {},
   "outputs": [],
   "source": [
    "data_3['Department'] = data_3['Department'].astype('category')\n",
    "data_3['Department'] = data_3['Department'].cat.codes"
   ]
  },
  {
   "cell_type": "code",
   "execution_count": 41,
   "metadata": {},
   "outputs": [
    {
     "name": "stdout",
     "output_type": "stream",
     "text": [
      "<class 'pandas.core.frame.DataFrame'>\n",
      "RangeIndex: 10 entries, 0 to 9\n",
      "Data columns (total 3 columns):\n",
      "Department    10 non-null int8\n",
      "Age           10 non-null int64\n",
      "Experience    10 non-null int64\n",
      "dtypes: int64(2), int8(1)\n",
      "memory usage: 298.0 bytes\n"
     ]
    }
   ],
   "source": [
    "data_3.info()"
   ]
  },
  {
   "cell_type": "code",
   "execution_count": 42,
   "metadata": {},
   "outputs": [
    {
     "data": {
      "text/html": [
       "<div>\n",
       "<style scoped>\n",
       "    .dataframe tbody tr th:only-of-type {\n",
       "        vertical-align: middle;\n",
       "    }\n",
       "\n",
       "    .dataframe tbody tr th {\n",
       "        vertical-align: top;\n",
       "    }\n",
       "\n",
       "    .dataframe thead th {\n",
       "        text-align: right;\n",
       "    }\n",
       "</style>\n",
       "<table border=\"1\" class=\"dataframe\">\n",
       "  <thead>\n",
       "    <tr style=\"text-align: right;\">\n",
       "      <th></th>\n",
       "      <th>Department</th>\n",
       "      <th>Age</th>\n",
       "      <th>Experience</th>\n",
       "    </tr>\n",
       "  </thead>\n",
       "  <tbody>\n",
       "    <tr>\n",
       "      <td>1</td>\n",
       "      <td>0</td>\n",
       "      <td>33</td>\n",
       "      <td>12</td>\n",
       "    </tr>\n",
       "    <tr>\n",
       "      <td>2</td>\n",
       "      <td>1</td>\n",
       "      <td>35</td>\n",
       "      <td>12</td>\n",
       "    </tr>\n",
       "    <tr>\n",
       "      <td>3</td>\n",
       "      <td>1</td>\n",
       "      <td>36</td>\n",
       "      <td>12</td>\n",
       "    </tr>\n",
       "    <tr>\n",
       "      <td>4</td>\n",
       "      <td>0</td>\n",
       "      <td>34</td>\n",
       "      <td>11</td>\n",
       "    </tr>\n",
       "    <tr>\n",
       "      <td>5</td>\n",
       "      <td>1</td>\n",
       "      <td>33</td>\n",
       "      <td>13</td>\n",
       "    </tr>\n",
       "    <tr>\n",
       "      <td>6</td>\n",
       "      <td>2</td>\n",
       "      <td>34</td>\n",
       "      <td>12</td>\n",
       "    </tr>\n",
       "    <tr>\n",
       "      <td>7</td>\n",
       "      <td>0</td>\n",
       "      <td>32</td>\n",
       "      <td>10</td>\n",
       "    </tr>\n",
       "  </tbody>\n",
       "</table>\n",
       "</div>"
      ],
      "text/plain": [
       "   Department  Age  Experience\n",
       "1           0   33          12\n",
       "2           1   35          12\n",
       "3           1   36          12\n",
       "4           0   34          11\n",
       "5           1   33          13\n",
       "6           2   34          12\n",
       "7           0   32          10"
      ]
     },
     "execution_count": 42,
     "metadata": {},
     "output_type": "execute_result"
    }
   ],
   "source": [
    "data_3[~((data_3 < (Q1 - 1.5*IQR))| (data_3> (Q3 + 1.5*IQR))).any(axis=1)]"
   ]
  },
  {
   "cell_type": "code",
   "execution_count": 43,
   "metadata": {},
   "outputs": [
    {
     "data": {
      "text/html": [
       "<div>\n",
       "<style scoped>\n",
       "    .dataframe tbody tr th:only-of-type {\n",
       "        vertical-align: middle;\n",
       "    }\n",
       "\n",
       "    .dataframe tbody tr th {\n",
       "        vertical-align: top;\n",
       "    }\n",
       "\n",
       "    .dataframe thead th {\n",
       "        text-align: right;\n",
       "    }\n",
       "</style>\n",
       "<table border=\"1\" class=\"dataframe\">\n",
       "  <thead>\n",
       "    <tr style=\"text-align: right;\">\n",
       "      <th></th>\n",
       "      <th>Department</th>\n",
       "      <th>Age</th>\n",
       "      <th>Experience</th>\n",
       "    </tr>\n",
       "  </thead>\n",
       "  <tbody>\n",
       "    <tr>\n",
       "      <td>0</td>\n",
       "      <td>0</td>\n",
       "      <td>21</td>\n",
       "      <td>1</td>\n",
       "    </tr>\n",
       "    <tr>\n",
       "      <td>8</td>\n",
       "      <td>2</td>\n",
       "      <td>31</td>\n",
       "      <td>2</td>\n",
       "    </tr>\n",
       "    <tr>\n",
       "      <td>9</td>\n",
       "      <td>1</td>\n",
       "      <td>55</td>\n",
       "      <td>35</td>\n",
       "    </tr>\n",
       "  </tbody>\n",
       "</table>\n",
       "</div>"
      ],
      "text/plain": [
       "   Department  Age  Experience\n",
       "0           0   21           1\n",
       "8           2   31           2\n",
       "9           1   55          35"
      ]
     },
     "execution_count": 43,
     "metadata": {},
     "output_type": "execute_result"
    }
   ],
   "source": [
    "data_3[((data_3 < (Q1 - 1.5*IQR))| (data_3> (Q3 + 1.5*IQR))).any(axis=1)]"
   ]
  },
  {
   "cell_type": "code",
   "execution_count": null,
   "metadata": {},
   "outputs": [],
   "source": []
  }
 ],
 "metadata": {
  "kernelspec": {
   "display_name": "Python 3",
   "language": "python",
   "name": "python3"
  },
  "language_info": {
   "codemirror_mode": {
    "name": "ipython",
    "version": 3
   },
   "file_extension": ".py",
   "mimetype": "text/x-python",
   "name": "python",
   "nbconvert_exporter": "python",
   "pygments_lexer": "ipython3",
   "version": "3.7.0"
  }
 },
 "nbformat": 4,
 "nbformat_minor": 2
}
